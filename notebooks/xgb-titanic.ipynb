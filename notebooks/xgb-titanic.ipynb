{
 "cells": [
  {
   "cell_type": "code",
   "execution_count": null,
   "id": "quality-context",
   "metadata": {},
   "outputs": [],
   "source": [
    "import pandas as pd\n",
    "import numpy as np\n",
    "import xgboost as xgb\n",
    "import joblib\n",
    "\n",
    "import sklearn.pipeline\n",
    "import sklearn.compose\n",
    "import sklearn.preprocessing\n",
    "import sklearn.feature_extraction.text"
   ]
  },
  {
   "cell_type": "code",
   "execution_count": null,
   "id": "lesser-fault",
   "metadata": {},
   "outputs": [],
   "source": [
    "xgb.__version__"
   ]
  },
  {
   "cell_type": "code",
   "execution_count": null,
   "id": "temporal-coffee",
   "metadata": {},
   "outputs": [],
   "source": [
    "! ls ../data"
   ]
  },
  {
   "cell_type": "code",
   "execution_count": null,
   "id": "universal-restriction",
   "metadata": {},
   "outputs": [],
   "source": [
    "! ls ../data/titanic"
   ]
  },
  {
   "cell_type": "code",
   "execution_count": null,
   "id": "ongoing-january",
   "metadata": {},
   "outputs": [],
   "source": [
    "df = pd.read_csv(\"../data/titanic/train.csv\")\n",
    "df"
   ]
  },
  {
   "cell_type": "code",
   "execution_count": null,
   "id": "loaded-switzerland",
   "metadata": {},
   "outputs": [],
   "source": [
    "df.shape"
   ]
  },
  {
   "cell_type": "code",
   "execution_count": null,
   "id": "polish-chance",
   "metadata": {},
   "outputs": [],
   "source": [
    "df.columns"
   ]
  },
  {
   "cell_type": "code",
   "execution_count": null,
   "id": "smoking-entity",
   "metadata": {},
   "outputs": [],
   "source": [
    "df.dtypes"
   ]
  },
  {
   "cell_type": "markdown",
   "id": "unlikely-excellence",
   "metadata": {},
   "source": [
    "## Preprocess"
   ]
  },
  {
   "cell_type": "code",
   "execution_count": null,
   "id": "specialized-october",
   "metadata": {},
   "outputs": [],
   "source": [
    "df.hist()"
   ]
  },
  {
   "cell_type": "code",
   "execution_count": null,
   "id": "japanese-morrison",
   "metadata": {},
   "outputs": [],
   "source": [
    "df.loc[df['Cabin'].isnull(), 'Cabin'] = 'None'"
   ]
  },
  {
   "cell_type": "code",
   "execution_count": null,
   "id": "mobile-retirement",
   "metadata": {},
   "outputs": [],
   "source": [
    "preprocessor = sklearn.compose.ColumnTransformer(\n",
    "    transformers=[\n",
    "        ('Pclass',   sklearn.preprocessing.FunctionTransformer(), [\"Pclass\"]), # identity\n",
    "        ('Sex',      sklearn.preprocessing.OneHotEncoder(handle_unknown='ignore'), [\"Sex\"]),\n",
    "        ('Age',      sklearn.preprocessing.MinMaxScaler(), [\"Age\"]),\n",
    "        ('SibSp',    sklearn.preprocessing.QuantileTransformer(), [\"SibSp\"]),\n",
    "        ('Parch',    sklearn.preprocessing.FunctionTransformer(), [\"Parch\"]),\n",
    "        ('Fare',     sklearn.preprocessing.Normalizer(), [\"Fare\"]),\n",
    "        ('Cabin',    sklearn.preprocessing.OrdinalEncoder(handle_unknown='use_encoded_value', unknown_value=9999), [\"Cabin\"]),\n",
    "        ('Embarked', sklearn.preprocessing.OneHotEncoder(handle_unknown='ignore'), ['Embarked']),\n",
    "    ],\n",
    ")\n",
    "tr = preprocessor.fit(df)"
   ]
  },
  {
   "cell_type": "code",
   "execution_count": null,
   "id": "theoretical-roots",
   "metadata": {},
   "outputs": [],
   "source": [
    "preprocessed_df = tr.transform(df)\n",
    "preprocessed_df[:10]"
   ]
  },
  {
   "cell_type": "code",
   "execution_count": null,
   "id": "ruled-commons",
   "metadata": {},
   "outputs": [],
   "source": [
    "preprocessed_df.shape"
   ]
  },
  {
   "cell_type": "markdown",
   "id": "editorial-soldier",
   "metadata": {},
   "source": [
    "## Fit"
   ]
  },
  {
   "cell_type": "code",
   "execution_count": null,
   "id": "difficult-airplane",
   "metadata": {},
   "outputs": [],
   "source": [
    "clf = xgb.XGBModel(**{'objective':'binary:logistic', 'n_estimators':10})\n",
    "\n",
    "model = clf.fit(preprocessed_df, df['Survived'])"
   ]
  },
  {
   "cell_type": "markdown",
   "id": "representative-tender",
   "metadata": {},
   "source": [
    "## Test"
   ]
  },
  {
   "cell_type": "code",
   "execution_count": null,
   "id": "sporting-transaction",
   "metadata": {},
   "outputs": [],
   "source": [
    "y_pred = clf.predict(preprocessed_df)"
   ]
  },
  {
   "cell_type": "code",
   "execution_count": null,
   "id": "thousand-window",
   "metadata": {},
   "outputs": [],
   "source": [
    "res = df['Survived'] - y_pred\n",
    "res.abs().mean()"
   ]
  },
  {
   "cell_type": "markdown",
   "id": "ideal-suggestion",
   "metadata": {},
   "source": [
    "## Save Model"
   ]
  },
  {
   "cell_type": "code",
   "execution_count": null,
   "id": "magnetic-insulin",
   "metadata": {},
   "outputs": [],
   "source": [
    "joblib.dump(preprocessor, '../data/models/titanic_preprocessor.sklearn')\n",
    "clf.save_model(\"../data/models/titanic.xgb\")"
   ]
  },
  {
   "cell_type": "code",
   "execution_count": null,
   "id": "intimate-today",
   "metadata": {},
   "outputs": [],
   "source": [
    "# test loaded model\n",
    "preprocessor2 = joblib.load('../data/models/titanic_preprocessor.sklearn')\n",
    "                            \n",
    "clf2 = xgb.XGBModel(**{'objective':'binary:logistic', 'n_estimators':10})\n",
    "clf2.load_model(\"../data/models/titanic.xgb\")"
   ]
  },
  {
   "cell_type": "code",
   "execution_count": null,
   "id": "monetary-terrorist",
   "metadata": {},
   "outputs": [],
   "source": [
    "y_pred2 = clf2.predict(preprocessor2.transform(df))\n",
    "\n",
    "res = df['Survived'] - y_pred\n",
    "res.abs().mean()"
   ]
  }
 ],
 "metadata": {
  "kernelspec": {
   "display_name": "Python 3",
   "language": "python",
   "name": "python3"
  },
  "language_info": {
   "codemirror_mode": {
    "name": "ipython",
    "version": 3
   },
   "file_extension": ".py",
   "mimetype": "text/x-python",
   "name": "python",
   "nbconvert_exporter": "python",
   "pygments_lexer": "ipython3",
   "version": "3.9.1-final"
  }
 },
 "nbformat": 4,
 "nbformat_minor": 5
}
